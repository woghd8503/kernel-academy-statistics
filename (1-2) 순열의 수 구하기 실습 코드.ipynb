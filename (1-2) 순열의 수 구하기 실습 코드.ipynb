{
  "nbformat": 4,
  "nbformat_minor": 0,
  "metadata": {
    "colab": {
      "provenance": []
    },
    "kernelspec": {
      "name": "python3",
      "display_name": "Python 3"
    },
    "language_info": {
      "name": "python"
    }
  },
  "cells": [
    {
      "cell_type": "code",
      "execution_count": null,
      "metadata": {
        "colab": {
          "base_uri": "https://localhost:8080/"
        },
        "id": "5qBKGFgCXv-L"
      },
      "outputs": [],
      "source": [
        "import itertools  # 순열(permutations) 등 반복자 관련 기능 제공\n",
        "\n",
        "# 1, 2, 3, 4 숫자가 적힌 카드 리스트 정의\n",
        "lists = [1, 2, 3, 4]\n",
        "\n",
        "# 카드 중 두 장을 꺼내는 모든 순열을 생성 (순서 중요)\n",
        "# 예: (1, 2)와 (2, 1)은 다른 경우로 간주\n",
        "a = list(itertools.permutations(lists, 2))\n",
        "\n",
        "# 결과 출력: 가능한 모든 두 장 조합(순열)\n",
        "print(a)\n",
        "\n",
        "# 가능한 경우의 수 출력: 4P2 = 4 * 3 = 12\n",
        "len(a)"
      ]
    }
  ]
}
