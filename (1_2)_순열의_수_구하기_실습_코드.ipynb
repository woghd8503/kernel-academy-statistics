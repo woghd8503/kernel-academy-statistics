{
  "nbformat": 4,
  "nbformat_minor": 0,
  "metadata": {
    "colab": {
      "provenance": [],
      "include_colab_link": true
    },
    "kernelspec": {
      "name": "python3",
      "display_name": "Python 3"
    },
    "language_info": {
      "name": "python"
    }
  },
  "cells": [
    {
      "cell_type": "markdown",
      "metadata": {
        "id": "view-in-github",
        "colab_type": "text"
      },
      "source": [
        "<a href=\"https://colab.research.google.com/github/woghd8503/kernel-academy-statistics/blob/main/(1_2)_%E1%84%89%E1%85%AE%E1%86%AB%E1%84%8B%E1%85%A7%E1%86%AF%E1%84%8B%E1%85%B4_%E1%84%89%E1%85%AE_%E1%84%80%E1%85%AE%E1%84%92%E1%85%A1%E1%84%80%E1%85%B5_%E1%84%89%E1%85%B5%E1%86%AF%E1%84%89%E1%85%B3%E1%86%B8_%E1%84%8F%E1%85%A9%E1%84%83%E1%85%B3.ipynb\" target=\"_parent\"><img src=\"https://colab.research.google.com/assets/colab-badge.svg\" alt=\"Open In Colab\"/></a>"
      ]
    },
    {
      "cell_type": "code",
      "execution_count": null,
      "metadata": {
        "colab": {
          "base_uri": "https://localhost:8080/"
        },
        "id": "5qBKGFgCXv-L",
        "outputId": "a906150b-bfc6-4126-e6ad-e538173d528d"
      },
      "outputs": [
        {
          "output_type": "stream",
          "name": "stdout",
          "text": [
            "[(1, 2), (1, 3), (1, 4), (2, 1), (2, 3), (2, 4), (3, 1), (3, 2), (3, 4), (4, 1), (4, 2), (4, 3)]\n"
          ]
        },
        {
          "output_type": "execute_result",
          "data": {
            "text/plain": [
              "12"
            ]
          },
          "metadata": {},
          "execution_count": 1
        }
      ],
      "source": [
        "import itertools\n",
        "\n",
        "# 1, 2, 3, 4 숫자가 적힌 카드가 있다\n",
        "\n",
        "lists = [1, 2, 3, 4]\n",
        "\n",
        "# 카드 중 두 장 꺼내는 경우\n",
        "\n",
        "a = list(itertools.permutations(lists, 2))\n",
        "\n",
        "print(a)\n",
        "\n",
        "len(a)"
      ]
    }
  ]
}